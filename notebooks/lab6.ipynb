{
 "cells": [
  {
   "cell_type": "markdown",
   "metadata": {},
   "source": [
    "# ПРАКТИКА 6"
   ]
  },
  {
   "cell_type": "markdown",
   "metadata": {},
   "source": [
    "1. Напишите вспомогательную программу построения таблицы простых чисел меньших 256 с \n",
    "помощью решета Эратосфена. \n",
    "2. Выясните с помощью метода Ферма, являются ли n произвольных чисел простыми; в случае \n",
    "составного числа разложите его на множители. \n",
    "3. Для произвольного большого простого числа p выясните вопрос о его простоте: \n",
    "- с помощью теста Соловея – Штрассена; \n",
    "- с помощью теста Лемана; \n",
    "- с помощью теста Рабина – Миллера; \n",
    "- с помощью непосредственной проверки."
   ]
  },
  {
   "cell_type": "code",
   "execution_count": null,
   "metadata": {},
   "outputs": [],
   "source": []
  },
  {
   "cell_type": "markdown",
   "metadata": {},
   "source": [
    "### Задание 1"
   ]
  },
  {
   "cell_type": "code",
   "execution_count": null,
   "metadata": {},
   "outputs": [
    {
     "name": "stdout",
     "output_type": "stream",
     "text": [
      "[2, 3, 5, 7, 11, 13, 17, 19, 23, 29, 31, 37, 41, 43, 47, 53, 59, 61, 67, 71, 73, 79, 83, 89, 97, 101, 103, 107, 109, 113, 127, 131, 137, 139, 149, 151, 157, 163, 167, 173, 179, 181, 191, 193, 197, 199, 211, 223, 227, 229, 233, 239, 241, 251]\n"
     ]
    }
   ],
   "source": [
    "def eratosthene(limit):\n",
    "    primes = [True] * (limit + 1)\n",
    "    p = 2;\n",
    "    while (p * p <=limit):\n",
    "        if primes[p]:\n",
    "            for i in range(p * p, limit + 1, p): \n",
    "                primes[i] = False\n",
    "        p += 1\n",
    "    prime_number = [p for p in range(2, limit + 1) if primes[p]]\n",
    "\n",
    "    return prime_number\n",
    "\n",
    "primes_less_than_256 = eratosthene(255)\n",
    "print(primes_less_than_256)"
   ]
  },
  {
   "cell_type": "markdown",
   "metadata": {},
   "source": [
    "### Задание 2"
   ]
  },
  {
   "cell_type": "code",
   "execution_count": 7,
   "metadata": {},
   "outputs": [
    {
     "name": "stdout",
     "output_type": "stream",
     "text": [
      "число 2 не простое. делители: [2, 1]\n",
      "число 3 - простое.\n",
      "число 4 не простое. делители: [2, 2]\n",
      "число 5 - простое.\n",
      "число 6 не простое. делители: [2, 3]\n",
      "число 7 - простое.\n",
      "число 8 не простое. делители: [2, 4]\n",
      "число 9 не простое. делители: [3, 3]\n",
      "число 10 не простое. делители: [2, 5]\n",
      "число 11 - простое.\n",
      "число 12 не простое. делители: [2, 6]\n"
     ]
    }
   ],
   "source": [
    "import math\n",
    "\n",
    "def ferma(n):\n",
    "    if n <= 0:\n",
    "        return []\n",
    "    if n % 2 == 0:\n",
    "        return [2, n // 2]\n",
    "    a = math.ceil(math.sqrt(n))\n",
    "    b2 = a * a - n\n",
    "    while math.isqrt(b2) ** 2 != b2:\n",
    "        a += 1\n",
    "        b2 = a * a - n\n",
    "    b = math.isqrt(b2)\n",
    "    return [a - b, a + b]\n",
    "\n",
    "def is_prime(n):\n",
    "    factors = ferma(n)\n",
    "    if len(factors) == 2 and factors[0] == 1:\n",
    "        return True\n",
    "    return False\n",
    "\n",
    "numbers_to_test = [2, 3, 4, 5, 6, 7, 8, 9, 10, 11, 12]\n",
    "for number in numbers_to_test:\n",
    "    if is_prime(number):\n",
    "        print(f\"число {number} - простое.\")\n",
    "    else:\n",
    "        factors = ferma(number)\n",
    "        print(f\"число {number} не простое. делители: {factors}\")\n",
    "\n",
    "     "
   ]
  },
  {
   "cell_type": "markdown",
   "metadata": {},
   "source": [
    "### Задание 3"
   ]
  },
  {
   "cell_type": "code",
   "execution_count": 31,
   "metadata": {},
   "outputs": [
    {
     "name": "stdout",
     "output_type": "stream",
     "text": [
      "Число 41 вероятно простое.\n"
     ]
    }
   ],
   "source": [
    "import random\n",
    "from math import gcd\n",
    "# https://www.johndcook.com/blog/2019/02/12/computing-jacobi-symbols/   <<<<<-----источник. \n",
    "def jacobi(a, n):\n",
    "        assert(n > a > 0 and n%2 == 1)\n",
    "        t = 1\n",
    "        while a != 0:\n",
    "            while a % 2 == 0:\n",
    "                a /= 2\n",
    "                r = n % 8\n",
    "                if r == 3 or r == 5:\n",
    "                    t = -t\n",
    "            a, n = n, a\n",
    "            if a % 4 == n % 4 == 3:\n",
    "                t = -t\n",
    "            a %= n\n",
    "        if n == 1:\n",
    "            return t\n",
    "        else:\n",
    "            return 0\n",
    "def soloWay_test(p, k=5):\n",
    "    if p < 2:\n",
    "        return False;\n",
    "    if p == 2:\n",
    "        return True;\n",
    "    if p % 2 == 0:\n",
    "        return False;\n",
    "\n",
    "    for _ in range(k):\n",
    "        a = random.randint(1, p-1)\n",
    "        if gcd (a, p) != 1:\n",
    "            return False\n",
    "        \n",
    "        j = pow(a, (p-1) // 2 , p)\n",
    "        J = jacobi(a,p) % p\n",
    "\n",
    "        if (j < 0):\n",
    "            j += p;\n",
    "        if (J != j):\n",
    "            return False;\n",
    "    return True;\n",
    "\n",
    "p = int(input(\"Введите число для проверки на простоту: \"))\n",
    "if soloWay_test(p):\n",
    "    print(f\"Число {p} вероятно простое.\")\n",
    "else:\n",
    "    print(f\"Число {p} составное.\")\n"
   ]
  },
  {
   "cell_type": "code",
   "execution_count": 38,
   "metadata": {},
   "outputs": [
    {
     "name": "stdout",
     "output_type": "stream",
     "text": [
      "Число 101 вероятно простое с вероятностью ошибки 1/2^5.\n"
     ]
    }
   ],
   "source": [
    "import random;\n",
    "def lemman_test(p, k =5):\n",
    "    if p < 2:\n",
    "        return False;\n",
    "    if p == 2:\n",
    "        return True;\n",
    "    if p % 2 == 0:\n",
    "        return False;\n",
    "\n",
    "    succes_count = 0; \n",
    "    for _ in range(k):\n",
    "        a = random.randint(1, p-1)\n",
    "        if gcd (a, p) != 1:\n",
    "            return False\n",
    "        result = pow(a, (p-1) // 2, p)\n",
    "        if result not in {1, p-1}:\n",
    "            return False\n",
    "\n",
    "        if result == 1 or result == p-1:\n",
    "            succes_count += 1 \n",
    "    return  succes_count == k\n",
    "\n",
    "\n",
    "\n",
    "p = int(input(\"Введите число для проверки на простоту: \"))\n",
    "k = 5\n",
    "if lemman_test(p, k):\n",
    "    print(f\"Число {p} вероятно простое с вероятностью ошибки 1/2^{k}.\")\n",
    "else:\n",
    "    print(f\"Число {p} составное.\")"
   ]
  },
  {
   "cell_type": "code",
   "execution_count": 41,
   "metadata": {},
   "outputs": [
    {
     "name": "stdout",
     "output_type": "stream",
     "text": [
      "Число 101 вероятно простое с вероятностью ошибки 1/2^10.\n"
     ]
    }
   ],
   "source": [
    "import random \n",
    "\n",
    "def miller_rabin_test(p, k = 5):\n",
    "\n",
    "    b = 0\n",
    "    m = p - 1\n",
    "    while m % 2 == 0:\n",
    "        m//=2\n",
    "        b+=1\n",
    "\n",
    "\n",
    "\n",
    "    for _ in range(k):\n",
    "        a = random.randint(2, p-2)\n",
    "\n",
    "        z = pow(a, m, p)\n",
    "\n",
    "        if z == 1 or z == p-1:\n",
    "            continue\n",
    "\n",
    "        j = 0\n",
    "        while j < b:\n",
    "            z = pow(z, 2, p)\n",
    "            if z == p-1:\n",
    "                break\n",
    "            if z == 1:\n",
    "                return False\n",
    "            j+=1\n",
    "        if z != p-1:\n",
    "            return False\n",
    "        \n",
    "    return True\n",
    "\n",
    "\n",
    "p = int(input(\"Введите число для проверки на простоту: \"))\n",
    "t = 10\n",
    "if miller_rabin_test(p, t):\n",
    "    print(f\"Число {p} вероятно простое с вероятностью ошибки 1/2^{t}.\")\n",
    "else:\n",
    "    print(f\"Число {p} составное.\")\n"
   ]
  },
  {
   "cell_type": "code",
   "execution_count": null,
   "metadata": {},
   "outputs": [
    {
     "name": "stdout",
     "output_type": "stream",
     "text": [
      "104729 простое.\n"
     ]
    }
   ],
   "source": [
    "import math\n",
    "\n",
    "def is_prime(p):\n",
    "    if p <= 1:\n",
    "        return False\n",
    "    if p == 2 or p == 3:\n",
    "        return True\n",
    "    if p % 2 == 0:\n",
    "        return False \n",
    "\n",
    "\n",
    "    for i in range(3, int(math.sqrt(p)) + 1, 2):\n",
    "        if p % i == 0:\n",
    "            return False\n",
    "\n",
    "    return True\n",
    "\n",
    "# Пример использования\n",
    "p = 104729\n",
    "if is_prime(p):\n",
    "    print(f\"{p} простое.\")\n",
    "else:\n",
    "    print(f\"{p} составное.\")"
   ]
  }
 ],
 "metadata": {
  "kernelspec": {
   "display_name": "Python 3",
   "language": "python",
   "name": "python3"
  },
  "language_info": {
   "codemirror_mode": {
    "name": "ipython",
    "version": 3
   },
   "file_extension": ".py",
   "mimetype": "text/x-python",
   "name": "python",
   "nbconvert_exporter": "python",
   "pygments_lexer": "ipython3",
   "version": "3.12.1"
  }
 },
 "nbformat": 4,
 "nbformat_minor": 2
}
