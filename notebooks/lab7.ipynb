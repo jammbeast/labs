{
 "cells": [
  {
   "cell_type": "markdown",
   "metadata": {},
   "source": [
    "# Практическая работа 7"
   ]
  },
  {
   "cell_type": "markdown",
   "metadata": {},
   "source": [
    "#### Задание\n",
    "\n",
    "1. Провести предварительную обработку произвольного текста. Привести все слова к нижнему регистру, удалить знаки препинания.\n",
    "2. Зашифровать текст методом простой замены, запросив ключ шифрования у пользователя.\n",
    "3. Дешифровать текст, используя тот же самый ключ.\n",
    "4. Зашифровать текст методом сложной замены, запросив ключ шифрования у пользователя.\n",
    "5. Дешифровать текст, используя тот же самый ключ."
   ]
  },
  {
   "cell_type": "markdown",
   "metadata": {},
   "source": [
    "##### Задания 1-3\n",
    "##### Переменные\n",
    "\n",
    "- **encrypted_text**: `str`, значение: `'svool dliow'`\n",
    "- **key**: `str`, значение: `'zyxwvutsrqponmlkjihgfedcba'`\n",
    "- **preprocessed_text**: `str`, значение: `'hello world'`\n",
    "- **text**: `str`, значение: `'hello world!'`"
   ]
  },
  {
   "cell_type": "code",
   "execution_count": 10,
   "metadata": {},
   "outputs": [
    {
     "name": "stdout",
     "output_type": "stream",
     "text": [
      "Заготовленный текст hello world\n"
     ]
    },
    {
     "ename": "ValueError",
     "evalue": "ключ должен быть 26-ти симвоольным (англ алфавит).",
     "output_type": "error",
     "traceback": [
      "\u001b[0;31m---------------------------------------------------------------------------\u001b[0m",
      "\u001b[0;31mValueError\u001b[0m                                Traceback (most recent call last)",
      "Cell \u001b[0;32mIn[10], line 37\u001b[0m\n\u001b[1;32m     35\u001b[0m key \u001b[38;5;241m=\u001b[39m \u001b[38;5;28minput\u001b[39m(\u001b[38;5;124m\"\u001b[39m\u001b[38;5;124mВведите на АНГЛИЙСКОМ языке ключ шифрования (26 букв): \u001b[39m\u001b[38;5;124m\"\u001b[39m) \u001b[38;5;66;03m# например \"zyxwvutsrqponmlkjihgfedcba\"\u001b[39;00m\n\u001b[1;32m     36\u001b[0m \u001b[38;5;28;01mif\u001b[39;00m \u001b[38;5;28mlen\u001b[39m(key) \u001b[38;5;241m!=\u001b[39m \u001b[38;5;241m26\u001b[39m \u001b[38;5;129;01mor\u001b[39;00m \u001b[38;5;129;01mnot\u001b[39;00m key\u001b[38;5;241m.\u001b[39misalpha():\n\u001b[0;32m---> 37\u001b[0m     \u001b[38;5;28;01mraise\u001b[39;00m \u001b[38;5;167;01mValueError\u001b[39;00m(\u001b[38;5;124m\"\u001b[39m\u001b[38;5;124mключ должен быть 26-ти симвоольным (англ алфавит).\u001b[39m\u001b[38;5;124m\"\u001b[39m)\n\u001b[1;32m     39\u001b[0m encrypted_text \u001b[38;5;241m=\u001b[39m encrypt_text(preprocessed_text, key)\n\u001b[1;32m     40\u001b[0m \u001b[38;5;28mprint\u001b[39m(\u001b[38;5;124m\"\u001b[39m\u001b[38;5;124mЗашифрованный:\u001b[39m\u001b[38;5;124m\"\u001b[39m, encrypted_text)\n",
      "\u001b[0;31mValueError\u001b[0m: ключ должен быть 26-ти симвоольным (англ алфавит)."
     ]
    }
   ],
   "source": [
    "import string\n",
    "\n",
    "def preprocess_text(text):\n",
    "    text = text.lower()\n",
    "    text = text.translate(str.maketrans('', '', string.punctuation))\n",
    "    return text\n",
    "\n",
    "\n",
    "def encrypt_text(text, key):\n",
    "    encrypted_text = ''\n",
    "    for char in text:\n",
    "        if char.isalpha():\n",
    "            encrypted_text += key [ord(char) - ord('a')]\n",
    "        else:\n",
    "            encrypted_text += char\n",
    "    return encrypted_text\n",
    "\n",
    "def decrypt_text(text, key):\n",
    "    decrypted_text = ''\n",
    "    albphabet = \"string.ascii_lowercase\"\n",
    "    for char in text:\n",
    "        if char.isalpha():\n",
    "           index = key.index(char)\n",
    "           decrypted_text += albphabet[index]\n",
    "        else:\n",
    "            decrypted_text += char\n",
    "    return decrypted_text\n",
    "\n",
    "text = \"hello world!\"\n",
    "\n",
    "preprocessed_text = preprocess_text(text) # приводим к нижнему регистру и удаляем пунктуацию\n",
    "print(\"Заготовленный текст\", preprocessed_text)\n",
    "\n",
    "# Request encryption key from user\n",
    "key = input(\"Введите на АНГЛИЙСКОМ языке ключ шифрования (26 букв): \") # например \"zyxwvutsrqponmlkjihgfedcba\"\n",
    "if len(key) != 26 or not key.isalpha():\n",
    "    raise ValueError(\"ключ должен быть 26-ти симвоольным (англ алфавит).\")\n",
    "\n",
    "encrypted_text = encrypt_text(preprocessed_text, key)\n",
    "print(\"Зашифрованный:\", encrypted_text)\n",
    "print(\"Расшифрованный:\", decrypt_text(encrypted_text, key))"
   ]
  },
  {
   "cell_type": "markdown",
   "metadata": {},
   "source": [
    "#### Задания 4-5"
   ]
  },
  {
   "cell_type": "code",
   "execution_count": 12,
   "metadata": {},
   "outputs": [
    {
     "name": "stdout",
     "output_type": "stream",
     "text": [
      "Зашифрованный текст: пж пвцблпхн цчпхфл ижо чжчёфжф\n",
      "Расшифрованный текст: на западном фронте без перемен\n"
     ]
    }
   ],
   "source": [
    "def preprocess_text(text):\n",
    "    text = text.lower()\n",
    "    text = text.translate(str.maketrans('', '', string.punctuation))\n",
    "    return text\n",
    "\n",
    "def extend_key(key, text_length):\n",
    "    return (key * (text_length // len(key)))+ key[:text_length %len(key)] # увеличиваем ключ до длины текста\n",
    "\n",
    "def encrypt_text(text, key):\n",
    "    encrypted_text = ''\n",
    "    alphabet = \"абвгдеёжзийклмнопрстуфхцчшщъыьэюя\"\n",
    "    extended_key = extend_key(key, len(text))\n",
    "\n",
    "    for i, char in enumerate(text):\n",
    "        if char in alphabet:\n",
    "            shift = int(extended_key[i]) # сдвиг\n",
    "            new_index = (alphabet.index(char) + shift) % len(alphabet)\n",
    "\n",
    "            encrypted_text += alphabet[new_index]\n",
    "\n",
    "        else:\n",
    "            encrypted_text += char\n",
    "    return encrypted_text\n",
    "\n",
    "\n",
    "def decrypt_text(text, key):\n",
    "    decrypted_text = ''\n",
    "    alphabet = \"абвгдеёжзийклмнопрстуфхцчшщъыьэюя\"\n",
    "    extended_key = extend_key(key, len(text))\n",
    "\n",
    "    for i, char in enumerate(text):\n",
    "        if char in alphabet: \n",
    "            shift = int(extended_key[i])\n",
    "            new_index = (alphabet.index(char)- shift) % len(alphabet)\n",
    "\n",
    "            decrypted_text += alphabet[new_index]\n",
    "        else:\n",
    "            decrypted_text += char\n",
    "    return decrypted_text\n",
    "\n",
    "#text = \"NA ZAPADNOM FRONTE BEZ PEREMEN!\"\n",
    "text = \"На западном фронте без перемен!\"\n",
    "\n",
    "key = input(\"Ключ шифрования (например 2718): \")\n",
    "if not key.isdigit():\n",
    "    raise ValueError(\"ключ должен быть числом.\")\n",
    "\n",
    "preprocessed_text = preprocess_text(text)\n",
    "encrypted_text = encrypt_text(preprocessed_text, key)\n",
    "print(\"Зашифрованный текст:\", encrypted_text)\n",
    "print(\"Расшифрованный текст:\", decrypt_text(encrypted_text, key))\n"
   ]
  }
 ],
 "metadata": {
  "kernelspec": {
   "display_name": "Python 3",
   "language": "python",
   "name": "python3"
  },
  "language_info": {
   "codemirror_mode": {
    "name": "ipython",
    "version": 3
   },
   "file_extension": ".py",
   "mimetype": "text/x-python",
   "name": "python",
   "nbconvert_exporter": "python",
   "pygments_lexer": "ipython3",
   "version": "3.12.1"
  }
 },
 "nbformat": 4,
 "nbformat_minor": 2
}
