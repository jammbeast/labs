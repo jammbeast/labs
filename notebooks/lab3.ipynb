{
 "cells": [
  {
   "cell_type": "markdown",
   "metadata": {},
   "source": [
    "# Практическая работа 3"
   ]
  },
  {
   "cell_type": "markdown",
   "metadata": {},
   "source": [
    "#### ЗАДАНИЕ\n",
    "\n"
   ]
  },
  {
   "cell_type": "markdown",
   "metadata": {},
   "source": [
    "1. Провести статистическую обработку текста.\n",
    "\n",
    "2. Определить энтропию, приходящуюся в среднем на одну букву, длину кода при \n",
    "равномерном кодировании и избыточность.\n",
    "\n",
    "3. Построить схему алфавитного кодирования для однобуквенных сочетаний методом \n",
    "Хаффмана.  Найти среднюю длину элементарного кода, эффективность сжатия.\n",
    "\n",
    "4. Закодировать текст. Декодировать текст.\n",
    "\n",
    "5. Построить схему алфавитного кодирования для двухбуквенных сочетаний методом \n",
    "Хаффмана. Найти среднюю длину элементарного кода, эффективность сжатия, \n",
    "сравнить с результатами для однобуквенных сочетаний. \n",
    "6. Закодировать текст. Декодировать текст\n",
    "\n"
   ]
  },
  {
   "cell_type": "markdown",
   "metadata": {},
   "source": [
    "#### Отладочный код для метода хаффмана"
   ]
  },
  {
   "cell_type": "code",
   "execution_count": null,
   "metadata": {},
   "outputs": [
    {
     "name": "stdout",
     "output_type": "stream",
     "text": [
      "Коды Хаффмана: {'1': '100', '2': '111', '3': '0', '4': '101', '5': '110'}\n"
     ]
    }
   ],
   "source": [
    "import heapq\n",
    "\n",
    "\n",
    "def huffman(probs):\n",
    "    heap = [(prob, [char]) for char, prob in probs.items()] # (вероятность, символ)\n",
    "    heapq.heapify(heap) # превращаем список в кучу\n",
    "\n",
    "    codes = {char: \"\" for char in probs} \n",
    "    while len(heap) > 1:\n",
    "        right = heapq.heappop(heap) \n",
    "        left = heapq.heappop(heap) #  извлекаем наименьшую вероятность\n",
    "         # извлекаем следующую наименьшую вероятность\n",
    "\n",
    "        for char in left[1]:\n",
    "            codes[char] = \"1\" + codes[char] # добавляем 1 к коду символа\n",
    "        for char in right[1]:\n",
    "            codes[char] = \"0\" + codes[char] # добавляем 0 к коду символа\n",
    "\n",
    "        heapq.heappush(heap, (left[0] + right[0], left[1] + right[1])) # добавляем новую вероятность (суммму) в кучу\n",
    "\n",
    "    return codes\n",
    "\n",
    "probs = {'1': 2/14, '2': 3/14, '3': 5/14, '4': 2/14, '5': 2/14}\n",
    "codes = huffman(probs)\n",
    "\n",
    "print(\"Коды Хаффмана:\", codes)"
   ]
  },
  {
   "attachments": {
    "image.png": {
     "image/png": "[encoded data removed]"
    }
   },
   "cell_type": "markdown",
   "metadata": {},
   "source": [
    "![image.png](attachment:image.png)"
   ]
  },
  {
   "cell_type": "markdown",
   "metadata": {},
   "source": [
    "#### Собственно задание"
   ]
  },
  {
   "cell_type": "code",
   "execution_count": 59,
   "metadata": {},
   "outputs": [
    {
     "name": "stdout",
     "output_type": "stream",
     "text": [
      "{'1': '011', '2': '000', '3': '1', '4': '010', '5': '001'}\n",
      "Средняя длина кода: 2.2857142857142856\n",
      "Эффективность кодирования: 0.9668262791314429\n",
      "Длина исходного текста: 14\n",
      "Длина закодированного текста: 32\n",
      "Исходный текст: 12342334551233\n",
      "Закодированный текст: 01100010100001101000100101100011\n",
      "Декодированный текст: 12342334551233\n",
      "\n",
      "{'12': '011', '23': '10', '34': '001', '42': '0001', '33': '010', '45': '0000', '55': '110', '51': '111'}\n",
      "средняя длина кода для биграмм: 2.9230769230769234\n",
      "Эффективность кодирования для биграмм: 1.2569990472869959\n",
      "Длина исходного текста: 14\n",
      "Длина закодированного текста: 25\n",
      "Закодированный текст: 0111000100010100000110111\n",
      "Декодированный текст: 1223344233455551\n"
     ]
    }
   ],
   "source": [
    "import string;\n",
    "from collections import Counter;\n",
    "import math;\n",
    "\n",
    "######################\n",
    "file_path = \"text.txt\"\n",
    "######################\n",
    "\n",
    "with open(file_path, 'r', encoding='UTF-8') as file:\n",
    "    text = file.read()\n",
    "    cleanText = text.lower().translate(str.maketrans('','', string.punctuation)).replace(' ', '')\n",
    "    charCounter = Counter(cleanText)\n",
    "\n",
    "    ########################################\n",
    "\n",
    "    binGram_counts = {}\n",
    "    for i in range(len(cleanText) -1):\n",
    "        bingram = cleanText[i:i+2];\n",
    "        if bingram in binGram_counts:\n",
    "            binGram_counts[bingram] +=1;\n",
    "        else:\n",
    "            binGram_counts[bingram] = 1;\n",
    "    ########################################\n",
    "    totalChars = sum(charCounter.values())\n",
    "\n",
    "    charProbs = {char : count / totalChars for char, count in charCounter.items()}\n",
    "\n",
    "    entropy = -sum( p * math.log2(p) for p in charProbs.values())\n",
    "    ########################################\n",
    "\n",
    "    totalBinGrams = sum(binGram_counts.values())\n",
    "\n",
    "    binGramProbs = {binGram : count / totalBinGrams for binGram, count in binGram_counts.items()}\n",
    "\n",
    "    binGramEntropy = -sum( p * math.log2(p) for p in binGramProbs.values())\n",
    "    #########################################\n",
    "    # Для однобуквенных символов и бинграм при равноменном кодировании формула Длины кода : l = |log2(m).\n",
    "\n",
    "    lengChars = math.ceil(math.log2(len(charProbs)))\n",
    "\n",
    "    lengBin = math.ceil(math.log2(len(binGramProbs)))\n",
    "    ########################################\n",
    "\n",
    "    \n",
    "    #D0 = 1 - H/l\n",
    "\n",
    "    #Dp = 1 - H / log2(m)\n",
    "\n",
    "    D0_chars = 1 - entropy / lengChars\n",
    "\n",
    "    Dp_chars = 1 - entropy / math.log2(len(charProbs)) \n",
    "\n",
    "\n",
    "    D0_bingrams = 1 - binGramEntropy / lengBin\n",
    "\n",
    "    Dp_bingrams = 1 - binGramEntropy / math.log2(len(binGramProbs))\n",
    "\n",
    "    ########################################\n",
    "\n",
    "    def huffman(probs):\n",
    "        heap = [(prob, [char]) for char, prob in probs.items()]\n",
    "        heapq.heapify(heap)\n",
    "\n",
    "        codes = {char: \"\" for char in probs}\n",
    "        while len(heap) > 1:\n",
    "            left = heapq.heappop(heap)\n",
    "            right = heapq.heappop(heap)\n",
    "\n",
    "            for char in left[1]:\n",
    "                codes[char] = \"1\" + codes[char]\n",
    "            for char in right[1]:\n",
    "                codes[char] = \"0\" + codes[char]\n",
    "\n",
    "            heapq.heappush(heap, (left[0] + right[0], left[1] + right[1]))\n",
    "\n",
    "        return codes\n",
    "# Кодирование однобуквенных сочетаний\n",
    "codes = huffman(charProbs)\n",
    "print(codes)\n",
    "avg_Len = sum(len(codes[char]) * prob for char, prob in charProbs.items())\n",
    "char_coding_efficiency = entropy / avg_Len\n",
    "\n",
    "# Кодирование текста\n",
    "encoded_text_chars = \"\".join(codes[char] for char in cleanText)\n",
    "# Декодирование текста\n",
    "# Создаем обратный словарь для декодирования\n",
    "reverse_codes = {v: k for k, v in codes.items()} \n",
    "\n",
    "# Простое декодирование с использованием обратного словаря\n",
    "decoded_text_chars = \"\"\n",
    "current_code = \"\"\n",
    "for bit in encoded_text_chars: # Проходим по всем битам закодированного текста\n",
    "    current_code += bit     # Добавляем текущий бит к текущему коду\n",
    "    if current_code in reverse_codes: # Если текущий код есть в обратном словаре\n",
    "        decoded_text_chars += reverse_codes[current_code] # Добавляем соответствующий символ в декодированный текст\n",
    "        current_code = \"\" # Обнуляем текущий код \n",
    "\n",
    "# Кодирование двухбуквенных сочетаний\n",
    "codes = huffman(binGramProbs)\n",
    "avg_Len_bin = sum(len(codes[binGram]) * prob for binGram, prob in binGramProbs.items())\n",
    "char_coding_efficiency_bin = binGramEntropy / avg_Len\n",
    "# Кодирование текста двухбуквенными сочетаниями\n",
    "encoded_text_chars_bingram = \"\".join(codes[binGram] for binGram in binGram_counts.keys())\n",
    "# Декодирование текста\n",
    "# Создаем обратный словарь для декодирования\n",
    "reverse_codes = {v: k for k, v in codes.items()}\n",
    "decoded_text_chars_bingram = \"\"\n",
    "current_code = \"\"\n",
    "for bit in encoded_text_chars_bingram: # Проходим по всем битам закодированного текста\n",
    "    current_code += bit     # Добавляем текущий бит к текущему коду\n",
    "    if current_code in reverse_codes: # Если текущий код есть в обратном словаре\n",
    "        decoded_text_chars_bingram += reverse_codes[current_code] # Добавляем соответствующий символ в декодированный текст\n",
    "        current_code = \"\" # Обнуляем текущий код\n",
    "\n",
    "\n",
    "\n",
    "print(f\"Средняя длина кода: {avg_Len}\")\n",
    "print(f\"Эффективность кодирования: {char_coding_efficiency}\")\n",
    "print(f\"Длина исходного текста: {len(cleanText)}\")\n",
    "print(f\"Длина закодированного текста: {len(encoded_text_chars)}\")\n",
    "print(f\"Исходный текст: {cleanText}\")\n",
    "print(f\"Закодированный текст: {encoded_text_chars}\")\n",
    "print(f\"Декодированный текст: {decoded_text_chars}\\n\")\n",
    "\n",
    "print(codes)\n",
    "print(f\"средняя длина кода для биграмм: {avg_Len_bin}\")\n",
    "print(f\"Эффективность кодирования для биграмм: {char_coding_efficiency_bin}\")\n",
    "print(f\"Длина исходного текста: {len(cleanText)}\")\n",
    "print(f\"Длина закодированного текста: {len(encoded_text_chars_bingram)}\")\n",
    "print(f\"Закодированный текст: {encoded_text_chars_bingram}\")\n",
    "print(f\"Декодированный текст: {decoded_text_chars_bingram}\")\n",
    "\n"
   ]
  }
 ],
 "metadata": {
  "kernelspec": {
   "display_name": "Python 3",
   "language": "python",
   "name": "python3"
  },
  "language_info": {
   "codemirror_mode": {
    "name": "ipython",
    "version": 3
   },
   "file_extension": ".py",
   "mimetype": "text/x-python",
   "name": "python",
   "nbconvert_exporter": "python",
   "pygments_lexer": "ipython3",
   "version": "3.12.1"
  }
 },
 "nbformat": 4,
 "nbformat_minor": 2
}
