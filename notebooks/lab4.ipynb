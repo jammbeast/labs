{
 "cells": [
  {
   "cell_type": "markdown",
   "metadata": {},
   "source": [
    "# ПРАКТИКА 4\n"
   ]
  },
  {
   "cell_type": "markdown",
   "metadata": {},
   "source": [
    "#### ЗАДАНИЕ"
   ]
  },
  {
   "cell_type": "markdown",
   "metadata": {},
   "source": [
    "1. Запросить у пользователя количество информационных разрядов и рассчитать для \n",
    "него количество проверочных. \n",
    "\n",
    "2. Методом Хемминга закодировать произвольную информационную комбинацию, \n",
    "заданного размера, построив порождающую и проверочную матрицы.  \n",
    "\n",
    "3. Внести ошибку в один из разрядов кодового вектора; найти синдром; найти и \n",
    "исправить ошибку. "
   ]
  },
  {
   "cell_type": "markdown",
   "metadata": {},
   "source": [
    "#### Задание 1 + Отладка функции"
   ]
  },
  {
   "cell_type": "code",
   "execution_count": null,
   "metadata": {},
   "outputs": [
    {
     "name": "stdout",
     "output_type": "stream",
     "text": [
      "Сообщение:\n",
      "[1 1 0 1]\n",
      "Проверочная матрица H:\n",
      "[[0 0 0 1 1 0 0]\n",
      " [0 1 1 0 0 1 0]\n",
      " [1 0 1 0 0 0 1]]\n",
      "Порождающая матрица G:\n",
      "[[1, 0, 1, 1, 0, 0, 0], [0, 1, 0, 1, 1, 0, 0], [0, 0, 1, 0, 1, 1, 0], [0, 0, 0, 1, 1, 0, 1]]\n",
      "Кодовое слово:\n",
      "[1 1 1 1 0 0 1]\n"
     ]
    }
   ],
   "source": [
    "import numpy as np\n",
    "def generate_generator_matrix(H, n, k):\n",
    "\n",
    "    #[P^T | I_r]\n",
    "    r = n - k\n",
    "    P_T = H[:, :n-r]  # Левая часть H\n",
    "    I_r = H[:, n-r:]  # Правая часть H (должна быть единичной матрицей)\n",
    "    \n",
    "    # Проверяем, что правая часть H — это единичная матрица\n",
    "    if not np.array_equal(I_r, np.eye(r, dtype=int)):\n",
    "        raise ValueError(\"Последние столбцы H должны быть единичной матрицей.\")\n",
    "    \n",
    "    # Строим порождающую матрицу G = [I_k | P]\n",
    "    P = P_T.T  # Транспонируем P^T\n",
    "    I_k = np.eye(k, dtype=int)  # Единичная матрица I_k\n",
    "    G = np.hstack((I_k, P))  # Объединяем I_k и P\n",
    "    \n",
    "    return G\n",
    "\n",
    "# 7-4\n",
    "G = [[1, 0, 1, 1, 0, 0, 0],\n",
    "     [0, 1, 0, 1, 1, 0, 0],\n",
    "     [0, 0, 1, 0, 1, 1, 0],\n",
    "     [0, 0, 0, 1, 1, 0, 1]]\n",
    "\n",
    "message = np.array([1, 1, 0, 1])\n",
    "code_word = np.dot(message, G) % 2\n",
    "print(\"Сообщение:\")\n",
    "print(message)\n",
    "print(\"Проверочная матрица H:\")\n",
    "print(H)\n",
    "print(\"Порождающая матрица G:\")\n",
    "print(G)\n",
    "print(\"Кодовое слово:\")\n",
    "print(code_word)"
   ]
  },
  {
   "cell_type": "markdown",
   "metadata": {},
   "source": [
    "#### Задание 2"
   ]
  },
  {
   "cell_type": "code",
   "execution_count": null,
   "metadata": {},
   "outputs": [],
   "source": []
  }
 ],
 "metadata": {
  "kernelspec": {
   "display_name": "Python 3",
   "language": "python",
   "name": "python3"
  },
  "language_info": {
   "codemirror_mode": {
    "name": "ipython",
    "version": 3
   },
   "file_extension": ".py",
   "mimetype": "text/x-python",
   "name": "python",
   "nbconvert_exporter": "python",
   "pygments_lexer": "ipython3",
   "version": "3.12.1"
  }
 },
 "nbformat": 4,
 "nbformat_minor": 2
}
