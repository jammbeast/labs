{
 "cells": [
  {
   "cell_type": "markdown",
   "metadata": {},
   "source": [
    "# ПРАКТИКА 4\n"
   ]
  },
  {
   "cell_type": "markdown",
   "metadata": {},
   "source": [
    "#### ЗАДАНИЕ"
   ]
  },
  {
   "cell_type": "markdown",
   "metadata": {},
   "source": [
    "1. Запросить у пользователя количество информационных разрядов и сгенерировать \n",
    "таблицу, требуемого размера.\n",
    " \n",
    "2. Методом Хемминга закодировать произвольную информационную комбинацию, \n",
    "заданного размера, рассчитав проверочные символы табличным методом.  \n",
    "3. Внести ошибку в один из разрядов кодового вектора; найти синдром; найти и \n",
    "исправить ошибку."
   ]
  },
  {
   "cell_type": "markdown",
   "metadata": {},
   "source": [
    "Задания 1-2"
   ]
  },
  {
   "cell_type": "code",
   "execution_count": 37,
   "metadata": {},
   "outputs": [
    {
     "name": "stdout",
     "output_type": "stream",
     "text": [
      "Количество проверочных битов:  3\n",
      "Закодированные биты:  1010101\n",
      "Внесённые ошибочные биты:  1010001\n",
      "Ошибка на позиции: 5\n",
      "Синдром:  ['1', '0', '1']\n",
      "Исправленные биты:  1010101\n",
      "Ошибка была на позиции: 5\n"
     ]
    }
   ],
   "source": [
    "import math \n",
    "import random\n",
    "\n",
    "def calculate_parity_bits(n):\n",
    "    r = 0;\n",
    "    while 2**r < n + r + 1:\n",
    "        r += 1;\n",
    "    return r;\n",
    "\n",
    "##### Мы будем работать с бинарной таблицей, где:\n",
    "\n",
    "# Информационные биты занимают те позиции, которые не являются степенями двойки\n",
    "# Проверочные биты заполняются на позициях, которые являются степенями двойки (1, 2, 4, 8 и т.д.).\n",
    "\n",
    "def create_hamming_table(n, r):\n",
    "    table = [None] * (n + r) \n",
    "    \n",
    "    info_bit_index = 0\n",
    "\n",
    "    for i in range(r + n):\n",
    "        \n",
    "        if (i + 1) & (i) == 0:\n",
    "            table[ i ] = 'P'\n",
    "        else:\n",
    "            table[ i ] = 'I'\n",
    "\n",
    "    return table;\n",
    "def calculate_parity_bit(table, position, bits):\n",
    "    # Начинаем с четности, равной 0\n",
    "    parity = 0\n",
    "    \n",
    "    # Проходим по всем битам\n",
    "    for i in range(len(bits)):\n",
    "        # Проверяем, участвует ли текущий бит в проверке четности\n",
    "        if (i + 1) & (position + 1):\n",
    "            # Если участвует, то меняем значение четности\n",
    "            parity ^= int(bits[i])\n",
    "    \n",
    "    # Возвращаем рассчитанное значение четности\n",
    "    return parity\n",
    "\n",
    "\n",
    "def hamming_coding(info_bits,n , r, ):\n",
    "    table = create_hamming_table(n, r)\n",
    "\n",
    "    bits = ['0'] * (n + r)\n",
    "    info_index = 0;\n",
    "    \n",
    "    for i in range(len(table)):\n",
    "        if table[i] == 'I':\n",
    "            bits[i] = info_bits[info_index]\n",
    "\n",
    "            info_index += 1\n",
    "\n",
    "    for i in range(r):\n",
    "        position = 2**i -1  #Позиция проверочного бита (степени двойки: 1, 2, 4, 8...)\n",
    "        parity = calculate_parity_bit(table, position, bits);\n",
    "        bits[position] = str(parity) #Записываем значение проверочного бита в таблицу\n",
    "\n",
    "    encoded_bits = ''.join(bits)\n",
    "    return encoded_bits;\n",
    "\n",
    "\n",
    "def calculate_syndrome(encoded_bits, n, r):\n",
    "    syndrome = []\n",
    "    \n",
    "    for i in range(r):\n",
    "        position = 2**i -1;\n",
    "        parity = calculate_parity_bit(create_hamming_table(n, r), position, encoded_bits);\n",
    "        syndrome.append(str(parity));\n",
    "\n",
    "    return syndrome\n",
    "\n",
    "def introduce_error(encoded_bits):\n",
    "    error_position = random.randint(0, len(encoded_bits) - 1);\n",
    "    encoded_bits_list = list(encoded_bits);\n",
    "    encoded_bits_list[error_position] = '1' if encoded_bits_list[error_position] == '0' else '0';\n",
    "    return ''.join(encoded_bits_list), error_position;\n",
    "\n",
    "\n",
    "def correct_error(encoded_bits, syndrome):\n",
    "    error_position = sum([2**i * int(syndrome[i]) for i in range(len(syndrome))]) - 1;\n",
    "    if error_position >= 0:\n",
    "        encoded_bits_list = list(encoded_bits);\n",
    "        encoded_bits_list[error_position] = '1' if encoded_bits_list[error_position] == '0' else '0';\n",
    "        return ''.join(encoded_bits_list), error_position;\n",
    "    return encoded_bits, -1;\n",
    "\n",
    "\n",
    "n = int(input(\"Введите количество информационных битов: \"))\n",
    "r = calculate_parity_bits(n)\n",
    "print(\"Количество проверочных битов: \", r)\n",
    "info_bits = input(\"Введите информационные биты: \")\n",
    "\n",
    "encoded_bits = hamming_coding(info_bits, n, r)\n",
    "print(\"Закодированные биты: \", encoded_bits)\n",
    "\n",
    "encoded_bits_with_error, error_position = introduce_error(encoded_bits)\n",
    "print(\"Внесённые ошибочные биты: \", encoded_bits_with_error)\n",
    "print(f\"Ошибка на позиции: {error_position + 1}\")\n",
    "\n",
    "syndrome = calculate_syndrome(encoded_bits_with_error, n, r)\n",
    "\n",
    "print(\"Синдром: \", syndrome)\n",
    "\n",
    "corrected_bits, corrected_position = correct_error(encoded_bits_with_error, syndrome)\n",
    "\n",
    "print(\"Исправленные биты: \", corrected_bits)\n",
    "\n",
    "if corrected_position != -1:\n",
    "    print(f\"Ошибка была на позиции: {corrected_position + 1}\")\n",
    "else:\n",
    "    print(\"Ошибки не было.\")"
   ]
  },
  {
   "cell_type": "code",
   "execution_count": null,
   "metadata": {},
   "outputs": [],
   "source": []
  },
  {
   "cell_type": "code",
   "execution_count": null,
   "metadata": {},
   "outputs": [],
   "source": []
  }
 ],
 "metadata": {
  "kernelspec": {
   "display_name": "Python 3",
   "language": "python",
   "name": "python3"
  },
  "language_info": {
   "codemirror_mode": {
    "name": "ipython",
    "version": 3
   },
   "file_extension": ".py",
   "mimetype": "text/x-python",
   "name": "python",
   "nbconvert_exporter": "python",
   "pygments_lexer": "ipython3",
   "version": "3.12.1"
  }
 },
 "nbformat": 4,
 "nbformat_minor": 2
}
